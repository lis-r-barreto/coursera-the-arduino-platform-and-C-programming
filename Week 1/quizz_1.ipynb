{
  "nbformat": 4,
  "nbformat_minor": 0,
  "metadata": {
    "colab": {
      "name": "week1.ipynb",
      "provenance": []
    },
    "kernelspec": {
      "name": "python3",
      "display_name": "Python 3"
    }
  },
  "cells": [
    {
      "cell_type": "markdown",
      "metadata": {
        "id": "EORP7s1Qn-6Z",
        "colab_type": "text"
      },
      "source": [
        "# **Module 1 Quiz**"
      ]
    },
    {
      "cell_type": "markdown",
      "metadata": {
        "id": "rEKB7Y8ooDsh",
        "colab_type": "text"
      },
      "source": [
        "**1. What type of connector does an Arduino UNO not contain?**\n",
        "\n",
        "*Answer: HDMI connector*"
      ]
    },
    {
      "cell_type": "markdown",
      "metadata": {
        "id": "xG3e2oacoJXk",
        "colab_type": "text"
      },
      "source": [
        "**2. How many microcontrollers are available for user programming on the Arduino UNO?**\n",
        "\n",
        "*Answer: 1*"
      ]
    },
    {
      "cell_type": "markdown",
      "metadata": {
        "id": "Tk-zWnVaoMHy",
        "colab_type": "text"
      },
      "source": [
        "**3. The Arduino UNO contains a user-controllable LED connected to which pin?**\n",
        "\n",
        "*Answer: Digital pin 13*"
      ]
    },
    {
      "cell_type": "markdown",
      "metadata": {
        "id": "w-x6uh28oSaR",
        "colab_type": "text"
      },
      "source": [
        "**4. True or False: Analog pin A0 can be used as an analog output.**\n",
        "\n",
        "*Answer: False*"
      ]
    },
    {
      "cell_type": "markdown",
      "metadata": {
        "id": "LCSN51B7oViz",
        "colab_type": "text"
      },
      "source": [
        "**5. Through what interface is the bootloader typically reprogrammed?**\n",
        "\n",
        "*Answer: ICSP*"
      ]
    },
    {
      "cell_type": "markdown",
      "metadata": {
        "id": "jd_-2VIYoYhu",
        "colab_type": "text"
      },
      "source": [
        "**6. True or False: The schematic shows the connections between components and their placement on the board.**\n",
        "\n",
        "*Answer: False*"
      ]
    },
    {
      "cell_type": "markdown",
      "metadata": {
        "id": "YiO8dZkqoezC",
        "colab_type": "text"
      },
      "source": [
        "**7. What operation in the IDE triggers code to be written into the memory of the Arduino?**\n",
        "\n",
        "*Answer: Upload*"
      ]
    },
    {
      "cell_type": "markdown",
      "metadata": {
        "id": "ZcqTs52Koh4J",
        "colab_type": "text"
      },
      "source": [
        "**8. Which statement about the serial monitor is NOT true?**\n",
        "\n",
        "*Answer: The serial monitor is a program that executes on the Arduino.*"
      ]
    }
  ]
}