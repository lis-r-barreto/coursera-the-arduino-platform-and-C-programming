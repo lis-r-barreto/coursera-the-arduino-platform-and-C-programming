{
  "nbformat": 4,
  "nbformat_minor": 0,
  "metadata": {
    "colab": {
      "name": "quizz_4",
      "provenance": []
    },
    "kernelspec": {
      "name": "python3",
      "display_name": "Python 3"
    }
  },
  "cells": [
    {
      "cell_type": "markdown",
      "metadata": {
        "id": "2qa3ZHzA1Kcy",
        "colab_type": "text"
      },
      "source": [
        "# **Module 4 Quiz**"
      ]
    },
    {
      "cell_type": "markdown",
      "metadata": {
        "id": "Y26Rp4hE0cAn",
        "colab_type": "text"
      },
      "source": [
        "**1. Which of the following does NOT provide observability in a system?**\n",
        "\n",
        "*Answer: A switch connected to an Arduino input pin*"
      ]
    },
    {
      "cell_type": "markdown",
      "metadata": {
        "id": "hMtLwMqK0ukv",
        "colab_type": "text"
      },
      "source": [
        "\n",
        "**2. What is meant by the expression “run control of the target”?**\n",
        "\n",
        "*Answer:Ans: The ability to stop and start the execution of the target microcontroller*"
      ]
    },
    {
      "cell_type": "markdown",
      "metadata": {
        "id": "WgdWKDZe00Cm",
        "colab_type": "text"
      },
      "source": [
        "\n",
        "**3. What is NOT an advantage of using a remote debugger?**\n",
        "\n",
        "*Answer: Remote debugging requires an extra communication channel for debugging*"
      ]
    },
    {
      "cell_type": "markdown",
      "metadata": {
        "id": "bVXAigjs02OR",
        "colab_type": "text"
      },
      "source": [
        "**4. What is NOT a feature of an embedded debug interface?**\n",
        "\n",
        "*Answer: Automatic test generation is commonly supported*"
      ]
    },
    {
      "cell_type": "markdown",
      "metadata": {
        "id": "RDocOQTa08v3",
        "colab_type": "text"
      },
      "source": [
        "**5. Which of the following is NOT an advantage of the UART protocol?**\n",
        "\n",
        "*Answer: Higher data transfer rates are typically achieved compared to a parallel protocol*"
      ]
    },
    {
      "cell_type": "markdown",
      "metadata": {
        "id": "LsAHx5cu0_-H",
        "colab_type": "text"
      },
      "source": [
        "**6. Which of the following statements is NOT true about the UART protocol?**\n",
        "\n",
        "*Answer: The data transmission rate is equal to the baud rate*"
      ]
    },
    {
      "cell_type": "markdown",
      "metadata": {
        "id": "pSludttg1DNl",
        "colab_type": "text"
      },
      "source": [
        "**7. Synchronization is performed in the UART protocol based on the timing of the Start bit.**\n",
        "\n",
        "*Answer: True*"
      ]
    },
    {
      "cell_type": "markdown",
      "metadata": {
        "id": "OaJ22jTA1GqV",
        "colab_type": "text"
      },
      "source": [
        "\n",
        "**8. An error in bit transmission (perhaps due to noise) may not be detected, even if a parity bit is used.**\n",
        "\n",
        "*Answer: True*"
      ]
    }
  ]
}