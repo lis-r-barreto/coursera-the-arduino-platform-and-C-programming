{
  "nbformat": 4,
  "nbformat_minor": 0,
  "metadata": {
    "colab": {
      "name": "week2.ipynb",
      "provenance": []
    },
    "kernelspec": {
      "name": "python3",
      "display_name": "Python 3"
    }
  },
  "cells": [
    {
      "cell_type": "markdown",
      "metadata": {
        "id": "jOTJtVJVOKeW",
        "colab_type": "text"
      },
      "source": [
        "# **Module 2 Quiz**"
      ]
    },
    {
      "cell_type": "markdown",
      "metadata": {
        "id": "sOgfTVjhOPJ4",
        "colab_type": "text"
      },
      "source": [
        "**1. What is the name of the library which contains the printf() function?**\n",
        "\n",
        "*Answer: stdio.h*"
      ]
    },
    {
      "cell_type": "markdown",
      "metadata": {
        "id": "P343v52COigj",
        "colab_type": "text"
      },
      "source": [
        "\n",
        "\n",
        "**2. What does the '\\n' character mean?**\n",
        "\n",
        "*Answer: newline*"
      ]
    },
    {
      "cell_type": "markdown",
      "metadata": {
        "id": "1B1ja4GUOr6X",
        "colab_type": "text"
      },
      "source": [
        "**3. What type of data is surrounded by double quotes in a program?**\n",
        "\n",
        "*Answer: a string*"
      ]
    },
    {
      "cell_type": "markdown",
      "metadata": {
        "id": "8pOPx6jOPIrC",
        "colab_type": "text"
      },
      "source": [
        "\n",
        "**4. What C type is one byte long?**\n",
        "\n",
        "*Answer: char*"
      ]
    },
    {
      "cell_type": "markdown",
      "metadata": {
        "id": "4S3kPperPNZc",
        "colab_type": "text"
      },
      "source": [
        "\n",
        "**5. Does the following statement evaluate to True or False?**\n",
        "\n",
        "\n",
        "```\n",
        "(10 || (5-2)) && ((6 / 2) - (1 + 2))\n",
        "```\n",
        "\n",
        "*Answer: False*"
      ]
    },
    {
      "cell_type": "markdown",
      "metadata": {
        "id": "_u5_EbVbPTQm",
        "colab_type": "text"
      },
      "source": [
        "**6. What does the following program print to the screen?**\n",
        "\n",
        "\n",
        "```\n",
        "int main ()\n",
        "{ \n",
        "  int x = 0, y = 1;\n",
        "  if (x || !y)\n",
        "  printf(\"1\");\n",
        "  else if (y && x)\n",
        "  printf(\"2\");\n",
        "  else\n",
        "  printf(\"3\");\n",
        "}\n",
        "```\n",
        "\n",
        "\n",
        "*Answer: 3*"
      ]
    },
    {
      "cell_type": "markdown",
      "metadata": {
        "id": "9cpDaLfpPjs0",
        "colab_type": "text"
      },
      "source": [
        "\n",
        "**7. What does the following program print to the screen?**\n",
        "\n",
        "```\n",
        "int main ()\n",
        "{ \n",
        "  int x = 0, z = 2;\n",
        "  while (x < 3)\n",
        "  { \n",
        "    printf (\"%i \", x);\n",
        "    x = x + z;\n",
        "  }\n",
        "}\n",
        "```\n",
        "\n",
        "*Answer: 0 2*"
      ]
    },
    {
      "cell_type": "markdown",
      "metadata": {
        "id": "rDNqd7VaQw-7",
        "colab_type": "text"
      },
      "source": [
        "\n",
        "**8. What does the following program print to the screen?**\n",
        "\n",
        "\n",
        "\n",
        "```\n",
        "int foo (int q) \n",
        "{ \n",
        "  int x = 1;\n",
        "  return (q + x); \n",
        "} \n",
        "  \n",
        "int main ()  \n",
        "{ \n",
        "  int x = 0; \n",
        "  while (x < 3) \n",
        "  {\n",
        "    printf (\"%i \", x); \n",
        "    x = x + foo(x);\n",
        "  } \n",
        "}\n",
        "\n",
        "```\n",
        "\n",
        "*Ans: 0 1*"
      ]
    }
  ]
}