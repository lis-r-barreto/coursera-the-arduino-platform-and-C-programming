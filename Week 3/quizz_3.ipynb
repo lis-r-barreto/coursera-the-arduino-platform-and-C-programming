{
  "nbformat": 4,
  "nbformat_minor": 0,
  "metadata": {
    "colab": {
      "name": "week_3.ipynb",
      "provenance": []
    },
    "kernelspec": {
      "name": "python3",
      "display_name": "Python 3"
    }
  },
  "cells": [
    {
      "cell_type": "markdown",
      "metadata": {
        "id": "VAqPn1AEtELj",
        "colab_type": "text"
      },
      "source": [
        "# **Module 3 Quiz**"
      ]
    },
    {
      "cell_type": "markdown",
      "metadata": {
        "id": "AK44pmuvq9SW",
        "colab_type": "text"
      },
      "source": [
        "**1. What is the function of the linking process after compilation?**\n",
        "\n",
        "*Answer: It merges the libraries with the application code into a single executable*"
      ]
    },
    {
      "cell_type": "markdown",
      "metadata": {
        "id": "L3J58IiMrWtI",
        "colab_type": "text"
      },
      "source": [
        "**2. What is the role of avrdude?**\n",
        "\n",
        "*Answer: It writes the executable into the memory of the Arduino*"
      ]
    },
    {
      "cell_type": "markdown",
      "metadata": {
        "id": "OkKmhhBArc_w",
        "colab_type": "text"
      },
      "source": [
        "**3. Why are classes (in C++) useful?**\n",
        "\n",
        "*Answer: They improve the organization and understandability of the code*"
      ]
    },
    {
      "cell_type": "markdown",
      "metadata": {
        "id": "R5-jAKr8rh_U",
        "colab_type": "text"
      },
      "source": [
        "**4. What is one way that a sketch can invoke a function contained inside a class?**\n",
        "\n",
        "*Answer: The name of the class can be concatenated with the name of the function, with a period in between.*"
      ]
    },
    {
      "cell_type": "markdown",
      "metadata": {
        "id": "1bPk-bP4rpB8",
        "colab_type": "text"
      },
      "source": [
        "**5. Which of the following statements is true?**\n",
        "\n",
        "*Answer: The setup() function is executed once and the loop() function is executed iteratively, as long as the Arduino is powered on.*"
      ]
    },
    {
      "cell_type": "markdown",
      "metadata": {
        "id": "FRX-uKtOrt8w",
        "colab_type": "text"
      },
      "source": [
        "**6. True or False: An analog pin can accept analog inputs and drive analog outputs.**\n",
        "\n",
        "*Answer: False*"
      ]
    },
    {
      "cell_type": "markdown",
      "metadata": {
        "id": "II0e5mRHr0V2",
        "colab_type": "text"
      },
      "source": [
        "\n",
        "**7. If a sketch running on an Arduino UNO executes the following statements, what voltage would be expected on pin 1 afterwards?**\n",
        "\n",
        "\n",
        "```\n",
        "pinMode(1, OUTPUT);\n",
        "digitalWrite(1, HIGH);\n",
        "```\n",
        "\n",
        "*Answer: 5*"
      ]
    },
    {
      "cell_type": "markdown",
      "metadata": {
        "id": "OdybCqbir8x_",
        "colab_type": "text"
      },
      "source": [
        "\n",
        "**8. True or False: The delay() function causes program execution to pause for a number of milliseconds.**\n",
        "\n",
        "*Answer: True*"
      ]
    }
  ]
}